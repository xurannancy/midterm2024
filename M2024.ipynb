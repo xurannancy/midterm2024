{
 "cells": [
  {
   "cell_type": "markdown",
   "metadata": {},
   "source": [
    "# Individual Midterm (Feb 26, 2024) Total = 30 pts"
   ]
  },
  {
   "cell_type": "code",
   "execution_count": null,
   "metadata": {
    "scrolled": true
   },
   "outputs": [],
   "source": [
    "# Your information. Please include your name. \n",
    "name = \"ABC\"              # Enter your name\n",
    "user = \"abc\"              # Enter your BC username\n",
    "print(\"Midterm submission for {} ({})\".format(name,user))"
   ]
  },
  {
   "cell_type": "code",
   "execution_count": null,
   "metadata": {
    "scrolled": true
   },
   "outputs": [],
   "source": [
    "# Honor pledge. Please print and enter your name.\n",
    "input(\"I pledge to uphold academic integrity in this exam: I will not seek or receive unauthorized help, nor use artificial intelligence tools, including language models. My work will reflect my own knowledge and effort, in compliance with the standards of Boston College. Signed: \")\n",
    "from datetime import datetime\n",
    "from pytz import timezone\n",
    "tz = timezone('EST')\n",
    "datetime.now(tz) "
   ]
  },
  {
   "cell_type": "markdown",
   "metadata": {},
   "source": [
    "<div class=\"alert-info\">\n",
    "<font color=\"blue\">\n",
    "    \n",
    "### Big picture:  \n",
    "\n",
    "We are going to use one dataset to answer 3 questions in this exam. I will help you set up the dataset and provide clear guidance to Questions 1 and 2. \n",
    "    \n",
    "* <b>Question 1: Summary statistics of individual return series [8pts]</b>\n",
    "    - Materials: 1.3, 1.4.2 from 1.4a\n",
    "* <b>Question 2: Obtain and plot time-varying Value-at-Risk (2.5%) of the United States daily return series. [15 pts]   </b> \n",
    "    - Materials: 1.4.1, 1.4.3 from 1.4a\n",
    "* <b>Question 3: Choose one of the two extending questions to answer. [7 pts]    </b>\n",
    "    - Materials: Business cycle, economic events, and time-series pattern discussions; the use of markdown\n",
    "    </font>\n"
   ]
  },
  {
   "cell_type": "markdown",
   "metadata": {},
   "source": [
    "<div class=\"alert-success\">\n",
    "    \n",
    "### Data description: \n",
    "    \n",
    "Dataset19950905_20240216.csv presents 7 country market-wide stock return daily series from 9/5/1995 to 2/16/2024: three from developed markets (US, Germany, Japan) and four from emerging markets (Brazil, Russia, India, China). \n",
    "    \n",
    "* <b>Column 1: dd/mm/yyyy (date variable)</b>\n",
    "    - Note: these are <font color='red'>trading days</font>, not calendar days. This concept will become useful later in Question 2.\n",
    "    \n",
    "* <b>Column 2 ''RET\\_US'': <font color='red'>Daily</font> returns of United States stock market index (i.e., SP500)</b>\n",
    "    - Note: a value such as 0.005 = $P_{2/27/2024}/P_{2/26/2024}-1$.\n",
    "\n",
    "* <b>Column 3 ''RET\\_DE'': Daily returns of Germany stock market index (i.e., DAX)</b>\n",
    "* <b>Column 4 ''RET\\_JP'': Daily returns of Japanese stock market index (i.e., TOPIX)</b>\n",
    "* <b>Column 5 ''RET\\_BR'': Daily returns of Brazilian stock market index (i.e., BOVESPA)</b>\n",
    "* <b>Column 6 ''RET\\_RU'': Daily returns of Russian stock market index (i.e., MOEX)</b>\n",
    "* <b>Column 7 ''RET\\_IN'': Daily returns of Indian stock market index (i.e., NIFTY)</b>\n",
    "* <b>Column 8 ''RET\\_CN'': Daily returns of Chinese stock market index (i.e., SSE)</b>\n",
    "* <b>Column 9 ''NBER_recess_indicator'': NBER recession indicator (=1 during recession; =0 otherwise)</b>"
   ]
  },
  {
   "cell_type": "markdown",
   "metadata": {},
   "source": [
    "<div class=\"alert-info\">\n",
    "<font color=\"blue\">\n",
    "    \n",
    "### To help you start, please compile the following codes or use your own preferred way to import data:"
   ]
  },
  {
   "cell_type": "code",
   "execution_count": null,
   "metadata": {},
   "outputs": [],
   "source": [
    "# check whatelse do we need?\n",
    "!pip install pandas\n",
    "!pip install matplotlib"
   ]
  },
  {
   "cell_type": "code",
   "execution_count": null,
   "metadata": {
    "scrolled": true
   },
   "outputs": [],
   "source": [
    "# import useful packages and our dataset\n",
    "import math\n",
    "import random\n",
    "import matplotlib.pyplot as plt\n",
    "import pandas\n",
    "\n",
    "data = pandas.read_csv('Dataset19950905_20240216.csv', header=0,parse_dates=True)"
   ]
  },
  {
   "cell_type": "code",
   "execution_count": null,
   "metadata": {},
   "outputs": [],
   "source": [
    "# print first 5 and last 5 rows of the dataset\n",
    "print(data.head())\n",
    "print(data.tail())"
   ]
  },
  {
   "cell_type": "code",
   "execution_count": null,
   "metadata": {
    "scrolled": true
   },
   "outputs": [],
   "source": [
    "# make sure python recognizes the first column as a date variable\n",
    "data['yyyymmdd'] = pandas.to_datetime(data['yyyymmdd'])   \n",
    "data['yyyymmdd'].dt.year.head()"
   ]
  },
  {
   "cell_type": "code",
   "execution_count": null,
   "metadata": {},
   "outputs": [],
   "source": [
    "# recall from 1.4a, we can always convert a pandas variable into a list variable (one example below)\n",
    "RETUS = list(data['RET_US'])\n",
    "print(type(data['RET_US']), type(RETUS), len(data['RET_US']), len(RETUS))"
   ]
  },
  {
   "cell_type": "markdown",
   "metadata": {},
   "source": [
    "<div class=\"alert-info\">\n",
    "<font color=\"blue\">\n",
    "    \n",
    "### <b>Question 1: Summary statistics of individual return series [8pts]</b> \n",
    "\n",
    "To save time, please focus on the return series from the US and three other countries that you find interesting. \n",
    "\n",
    "* Use the print+format command to print out <font color=\"red\">four sentences</font>, each reporting the mean, standard deviation (SD), minimum (min), and maximum (max) for each of the four return series, respectively. [4 pts]\n",
    "    - Please present all numbers in daily percents. Please keep two digits after the decimal point. \n",
    "* Use the print+format command to display the correlations between the US and the three chosen return series in <font color=\"red\">three separate sentences</font>, respectively. [3 pts]  \n",
    "    - Please keep two digits after the decimal point.\n",
    "* Use the print+format command to display the correlation between the US stock market returns and the NBER recession indicator in <font color=\"red\">one separate sentence</font>. [1 pt]\n",
    "    - Please keep two digits after the decimal point.\n",
    "\n",
    "That is, eight sentences, eight points. "
   ]
  },
  {
   "cell_type": "code",
   "execution_count": null,
   "metadata": {},
   "outputs": [],
   "source": [
    "# Your codes here"
   ]
  },
  {
   "cell_type": "markdown",
   "metadata": {},
   "source": [
    "<div class=\"alert-info\">\n",
    "<font color=\"blue\">\n",
    "\n",
    "### <b>Question 2: Obtain and plot time-varying Value-at-Risk (2.5%) of the United States daily return series. [15 pts] </b>\n",
    "\n",
    "In this question, you will calculate time-varying VaR (with risk threshold being <font color=\"red\">2.5%</font>) using <font color=\"red\">252-trading-day</font> rolling windows. Here is the exact procedure: \n",
    "    \n",
    "* Part one: Use all daily returns from the 1st return data to the 252nd return data as your baseline distribution, and calculate the value at the 2.5% percentile. Report and save this VaR. [5 pts]\n",
    "    \n",
    "* Part two: Use all daily returns from the 2nd return data to the 253rd return data as your baseline distribution, and calculate the value at the 2.5% percentile. Save this VaR. So on so forth, until the sample ends. [10 pts]\n",
    "    - Use for loop to produce time-varying VaR [5 pts]\n",
    "    - Display a plot with meaningful labels and titles (to save your time, there is no need to save it as an individual png) [5 pts]\n",
    "    \n",
    "Hint: 1.4.1+1.4.3"
   ]
  },
  {
   "cell_type": "code",
   "execution_count": null,
   "metadata": {},
   "outputs": [],
   "source": [
    "# Your codes for the first part here"
   ]
  },
  {
   "cell_type": "code",
   "execution_count": null,
   "metadata": {},
   "outputs": [],
   "source": [
    "print('The first VaR is {:5.3f}%.'.format(TO BE FILLED))"
   ]
  },
  {
   "cell_type": "markdown",
   "metadata": {},
   "source": [
    " "
   ]
  },
  {
   "cell_type": "code",
   "execution_count": null,
   "metadata": {},
   "outputs": [],
   "source": [
    "# Your codes for the second part here"
   ]
  },
  {
   "cell_type": "code",
   "execution_count": null,
   "metadata": {},
   "outputs": [],
   "source": [
    "# and the plot here"
   ]
  },
  {
   "cell_type": "markdown",
   "metadata": {},
   "source": [
    "<div class=\"alert-info\">\n",
    "<font color=\"blue\">\n",
    "\n",
    "### Question 3: Choose one of the two extending questions to answer. [7 pts]\n",
    "    \n",
    "The choice of analysis to include is yours. Your markdown writing will be the primary criterion for grading. Keep your writing concise, no more than 10 sentences or two paragraphs. Feel free to add extra plots to bolster your findings.\n",
    "    \n",
    "1. How does the US VaR differ from other countries VaR at the same risk threshold level (2.5%)? \n",
    "2. How does the US VaR correlate with the business cycle?\n",
    "   "
   ]
  },
  {
   "cell_type": "code",
   "execution_count": null,
   "metadata": {},
   "outputs": [],
   "source": [
    "# Your codes here (if any)"
   ]
  },
  {
   "cell_type": "markdown",
   "metadata": {},
   "source": [
    "<b>Your discussions here (double click to start):</b> "
   ]
  },
  {
   "cell_type": "markdown",
   "metadata": {},
   "source": [
    "-------"
   ]
  },
  {
   "cell_type": "markdown",
   "metadata": {},
   "source": [
    "### Print system time"
   ]
  },
  {
   "cell_type": "code",
   "execution_count": null,
   "metadata": {
    "scrolled": true
   },
   "outputs": [],
   "source": [
    "from datetime import datetime\n",
    "from pytz import timezone\n",
    "tz = timezone('EST')\n",
    "datetime.now(tz) "
   ]
  },
  {
   "cell_type": "markdown",
   "metadata": {},
   "source": [
    "### Finally, please make sure you have saved the present \"<b>M2024-yourbcid.ipynb</b>\" file. \n",
    "\n",
    "### To drop off your work, please click on \"File\" and then \"Logout\".\n",
    "\n",
    "### Good job! Phew! "
   ]
  },
  {
   "cell_type": "code",
   "execution_count": null,
   "metadata": {},
   "outputs": [],
   "source": []
  }
 ],
 "metadata": {
  "kernelspec": {
   "display_name": "Python 3 (ipykernel)",
   "language": "python",
   "name": "python3"
  },
  "language_info": {
   "codemirror_mode": {
    "name": "ipython",
    "version": 3
   },
   "file_extension": ".py",
   "mimetype": "text/x-python",
   "name": "python",
   "nbconvert_exporter": "python",
   "pygments_lexer": "ipython3",
   "version": "3.9.7"
  }
 },
 "nbformat": 4,
 "nbformat_minor": 2
}
